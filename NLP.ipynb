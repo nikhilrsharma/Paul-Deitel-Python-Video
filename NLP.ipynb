{
 "cells": [
  {
   "cell_type": "code",
   "execution_count": 1,
   "metadata": {},
   "outputs": [],
   "source": [
    "from textblob import TextBlob"
   ]
  },
  {
   "cell_type": "code",
   "execution_count": 2,
   "metadata": {},
   "outputs": [],
   "source": [
    "text = \"\"\"I have yet to understand how repetition helps one in understanding Python.\n",
    "It is a miracle indeed how easy or difficult Python is based on one\\'s efforts\"\"\""
   ]
  },
  {
   "cell_type": "code",
   "execution_count": 3,
   "metadata": {},
   "outputs": [],
   "source": [
    "blob = TextBlob(text)"
   ]
  },
  {
   "cell_type": "code",
   "execution_count": 4,
   "metadata": {},
   "outputs": [
    {
     "data": {
      "text/plain": [
       "TextBlob(\"I have yet to understand how repetition helps one in understanding Python.\n",
       "It is a miracle indeed how easy or difficult Python is based on one's efforts\")"
      ]
     },
     "execution_count": 4,
     "metadata": {},
     "output_type": "execute_result"
    }
   ],
   "source": [
    "blob"
   ]
  },
  {
   "cell_type": "code",
   "execution_count": 5,
   "metadata": {},
   "outputs": [
    {
     "data": {
      "text/plain": [
       "[Sentence(\"I have yet to understand how repetition helps one in understanding Python.\"),\n",
       " Sentence(\"It is a miracle indeed how easy or difficult Python is based on one's efforts\")]"
      ]
     },
     "execution_count": 5,
     "metadata": {},
     "output_type": "execute_result"
    }
   ],
   "source": [
    "blob.sentences"
   ]
  },
  {
   "cell_type": "code",
   "execution_count": 6,
   "metadata": {},
   "outputs": [
    {
     "data": {
      "text/plain": [
       "WordList(['I', 'have', 'yet', 'to', 'understand', 'how', 'repetition', 'helps', 'one', 'in', 'understanding', 'Python', 'It', 'is', 'a', 'miracle', 'indeed', 'how', 'easy', 'or', 'difficult', 'Python', 'is', 'based', 'on', 'one', \"'s\", 'efforts'])"
      ]
     },
     "execution_count": 6,
     "metadata": {},
     "output_type": "execute_result"
    }
   ],
   "source": [
    "blob.words"
   ]
  },
  {
   "cell_type": "code",
   "execution_count": 7,
   "metadata": {},
   "outputs": [
    {
     "data": {
      "text/plain": [
       "[('I', 'PRP'),\n",
       " ('have', 'VBP'),\n",
       " ('yet', 'RB'),\n",
       " ('to', 'TO'),\n",
       " ('understand', 'VB'),\n",
       " ('how', 'WRB'),\n",
       " ('repetition', 'NN'),\n",
       " ('helps', 'VBZ'),\n",
       " ('one', 'CD'),\n",
       " ('in', 'IN'),\n",
       " ('understanding', 'VBG'),\n",
       " ('Python', 'NNP'),\n",
       " ('It', 'PRP'),\n",
       " ('is', 'VBZ'),\n",
       " ('a', 'DT'),\n",
       " ('miracle', 'NN'),\n",
       " ('indeed', 'RB'),\n",
       " ('how', 'WRB'),\n",
       " ('easy', 'JJ'),\n",
       " ('or', 'CC'),\n",
       " ('difficult', 'JJ'),\n",
       " ('Python', 'NNP'),\n",
       " ('is', 'VBZ'),\n",
       " ('based', 'VBN'),\n",
       " ('on', 'IN'),\n",
       " ('one', 'CD'),\n",
       " (\"'s\", 'POS'),\n",
       " ('efforts', 'NNS')]"
      ]
     },
     "execution_count": 7,
     "metadata": {},
     "output_type": "execute_result"
    }
   ],
   "source": [
    "blob.tags"
   ]
  },
  {
   "cell_type": "code",
   "execution_count": 8,
   "metadata": {},
   "outputs": [
    {
     "data": {
      "text/plain": [
       "WordList(['python', 'python', \"'s efforts\"])"
      ]
     },
     "execution_count": 8,
     "metadata": {},
     "output_type": "execute_result"
    }
   ],
   "source": [
    "blob.noun_phrases"
   ]
  },
  {
   "cell_type": "code",
   "execution_count": 9,
   "metadata": {},
   "outputs": [
    {
     "data": {
      "text/plain": [
       "Sentiment(polarity=-0.033333333333333326, subjectivity=0.9166666666666667)"
      ]
     },
     "execution_count": 9,
     "metadata": {},
     "output_type": "execute_result"
    }
   ],
   "source": [
    "blob.sentiment"
   ]
  },
  {
   "cell_type": "code",
   "execution_count": 10,
   "metadata": {},
   "outputs": [
    {
     "data": {
      "text/plain": [
       "Sentiment(polarity=0.6, subjectivity=0.8)"
      ]
     },
     "execution_count": 10,
     "metadata": {},
     "output_type": "execute_result"
    }
   ],
   "source": [
    "TextBlob('I have always liked programming but somehow never came around to make a career in it').sentiment"
   ]
  },
  {
   "cell_type": "code",
   "execution_count": 11,
   "metadata": {},
   "outputs": [
    {
     "data": {
      "text/plain": [
       "Sentiment(polarity=-0.15, subjectivity=0.65)"
      ]
     },
     "execution_count": 11,
     "metadata": {},
     "output_type": "execute_result"
    }
   ],
   "source": [
    "TextBlob('I never liked BJP or Narendra Modi earlier. But now I have become inclined towards them').sentiment"
   ]
  },
  {
   "cell_type": "code",
   "execution_count": 12,
   "metadata": {},
   "outputs": [
    {
     "data": {
      "text/plain": [
       "-0.033333333333333326"
      ]
     },
     "execution_count": 12,
     "metadata": {},
     "output_type": "execute_result"
    }
   ],
   "source": [
    "blob.sentiment.polarity"
   ]
  },
  {
   "cell_type": "code",
   "execution_count": 13,
   "metadata": {},
   "outputs": [
    {
     "data": {
      "text/plain": [
       "0.9166666666666667"
      ]
     },
     "execution_count": 13,
     "metadata": {},
     "output_type": "execute_result"
    }
   ],
   "source": [
    "blob.sentiment.subjectivity"
   ]
  },
  {
   "cell_type": "code",
   "execution_count": 14,
   "metadata": {},
   "outputs": [
    {
     "name": "stdout",
     "output_type": "stream",
     "text": [
      "Sentence: I have yet to unders...\n",
      "Sentiment(polarity=0.0, subjectivity=0.0)\n",
      "Sentence: It is a miracle inde...\n",
      "Sentiment(polarity=-0.033333333333333326, subjectivity=0.9166666666666667)\n"
     ]
    }
   ],
   "source": [
    "for sentence in blob.sentences:\n",
    "    print(f'Sentence: {sentence[:20]}...')\n",
    "    print(sentence.sentiment)"
   ]
  },
  {
   "cell_type": "markdown",
   "metadata": {},
   "source": [
    "#### Naive Bayes analyzer"
   ]
  },
  {
   "cell_type": "code",
   "execution_count": 15,
   "metadata": {},
   "outputs": [],
   "source": [
    "from   textblob.sentiments import NaiveBayesAnalyzer"
   ]
  },
  {
   "cell_type": "code",
   "execution_count": 16,
   "metadata": {},
   "outputs": [],
   "source": [
    "blob = TextBlob(text,   analyzer=NaiveBayesAnalyzer())"
   ]
  },
  {
   "cell_type": "code",
   "execution_count": 17,
   "metadata": {},
   "outputs": [
    {
     "data": {
      "text/plain": [
       "TextBlob(\"I have yet to understand how repetition helps one in understanding Python.\n",
       "It is a miracle indeed how easy or difficult Python is based on one's efforts\")"
      ]
     },
     "execution_count": 17,
     "metadata": {},
     "output_type": "execute_result"
    }
   ],
   "source": [
    "blob"
   ]
  },
  {
   "cell_type": "code",
   "execution_count": 18,
   "metadata": {},
   "outputs": [
    {
     "data": {
      "text/plain": [
       "Sentiment(classification='pos', p_pos=0.9769294425715911, p_neg=0.0230705574284096)"
      ]
     },
     "execution_count": 18,
     "metadata": {},
     "output_type": "execute_result"
    }
   ],
   "source": [
    "blob.sentiment"
   ]
  },
  {
   "cell_type": "code",
   "execution_count": 19,
   "metadata": {},
   "outputs": [
    {
     "data": {
      "text/plain": [
       "Sentiment(classification='pos', p_pos=0.7778112943487567, p_neg=0.2221887056512407)"
      ]
     },
     "execution_count": 19,
     "metadata": {},
     "output_type": "execute_result"
    }
   ],
   "source": [
    "TextBlob('I like flying kites but do not like how it kills birds due to the hazardous glass-laden strings used', analyzer = NaiveBayesAnalyzer()).sentiment"
   ]
  },
  {
   "cell_type": "code",
   "execution_count": 20,
   "metadata": {},
   "outputs": [
    {
     "data": {
      "text/plain": [
       "Sentiment(classification='pos', p_pos=0.5363882558288628, p_neg=0.4636117441711371)"
      ]
     },
     "execution_count": 20,
     "metadata": {},
     "output_type": "execute_result"
    }
   ],
   "source": [
    "TextBlob('I love you', analyzer = NaiveBayesAnalyzer()).sentiment"
   ]
  },
  {
   "cell_type": "markdown",
   "metadata": {},
   "source": [
    "#### Language detection"
   ]
  },
  {
   "cell_type": "code",
   "execution_count": 21,
   "metadata": {},
   "outputs": [
    {
     "data": {
      "text/plain": [
       "'en'"
      ]
     },
     "execution_count": 21,
     "metadata": {},
     "output_type": "execute_result"
    }
   ],
   "source": [
    "blob.detect_language()"
   ]
  },
  {
   "cell_type": "code",
   "execution_count": 22,
   "metadata": {},
   "outputs": [
    {
     "data": {
      "text/plain": [
       "'hi'"
      ]
     },
     "execution_count": 22,
     "metadata": {},
     "output_type": "execute_result"
    }
   ],
   "source": [
    "TextBlob('Hum tumhe pasand karte hain').detect_language()"
   ]
  },
  {
   "cell_type": "code",
   "execution_count": 23,
   "metadata": {},
   "outputs": [
    {
     "data": {
      "text/plain": [
       "TextBlob(\"मुझे अभी तक समझ नहीं आया है कि पुनरावृत्ति कैसे पायथन को समझने में मदद करती है।\n",
       "यह वास्तव में एक चमत्कार है कि पायथन किसी के प्रयासों पर कितना आसान या कठिन है\")"
      ]
     },
     "execution_count": 23,
     "metadata": {},
     "output_type": "execute_result"
    }
   ],
   "source": [
    "TextBlob_in_hindi = blob.translate(to='hi')\n",
    "\n",
    "TextBlob_in_hindi"
   ]
  },
  {
   "cell_type": "markdown",
   "metadata": {},
   "source": [
    "Inflections are different forms of the same words, such as singular and plural (like “person” and “people”) and different verb tenses (like “run” and “ran”)."
   ]
  },
  {
   "cell_type": "code",
   "execution_count": 24,
   "metadata": {},
   "outputs": [],
   "source": [
    "from textblob import Word"
   ]
  },
  {
   "cell_type": "code",
   "execution_count": 25,
   "metadata": {},
   "outputs": [
    {
     "data": {
      "text/plain": [
       "'indices'"
      ]
     },
     "execution_count": 25,
     "metadata": {},
     "output_type": "execute_result"
    }
   ],
   "source": [
    "index = Word('index')\n",
    "\n",
    "index.pluralize()"
   ]
  },
  {
   "cell_type": "code",
   "execution_count": 26,
   "metadata": {},
   "outputs": [
    {
     "data": {
      "text/plain": [
       "'cactus'"
      ]
     },
     "execution_count": 26,
     "metadata": {},
     "output_type": "execute_result"
    }
   ],
   "source": [
    "cacti = Word('cacti')\n",
    "\n",
    "cacti.singularize()"
   ]
  },
  {
   "cell_type": "code",
   "execution_count": 27,
   "metadata": {},
   "outputs": [
    {
     "data": {
      "text/plain": [
       "WordList(['dog', 'cat', 'fish', 'bird'])"
      ]
     },
     "execution_count": 27,
     "metadata": {},
     "output_type": "execute_result"
    }
   ],
   "source": [
    "animals = TextBlob('dog cat fish bird').words\n",
    "\n",
    "animals"
   ]
  },
  {
   "cell_type": "code",
   "execution_count": 28,
   "metadata": {},
   "outputs": [
    {
     "data": {
      "text/plain": [
       "textblob.blob.WordList"
      ]
     },
     "execution_count": 28,
     "metadata": {},
     "output_type": "execute_result"
    }
   ],
   "source": [
    "type(animals)"
   ]
  },
  {
   "cell_type": "code",
   "execution_count": 29,
   "metadata": {},
   "outputs": [
    {
     "data": {
      "text/plain": [
       "WordList(['dogs', 'cats', 'fish', 'birds'])"
      ]
     },
     "execution_count": 29,
     "metadata": {},
     "output_type": "execute_result"
    }
   ],
   "source": [
    "animals.pluralize()"
   ]
  },
  {
   "cell_type": "markdown",
   "metadata": {},
   "source": [
    "#### Spellcheck"
   ]
  },
  {
   "cell_type": "code",
   "execution_count": 30,
   "metadata": {},
   "outputs": [
    {
     "data": {
      "text/plain": [
       "[('they', 0.5713042216741622), ('their', 0.42869577832583783)]"
      ]
     },
     "execution_count": 30,
     "metadata": {},
     "output_type": "execute_result"
    }
   ],
   "source": [
    "word = Word('theyr')\n",
    "\n",
    "word.spellcheck()"
   ]
  },
  {
   "cell_type": "code",
   "execution_count": 31,
   "metadata": {},
   "outputs": [
    {
     "data": {
      "text/plain": [
       "'they'"
      ]
     },
     "execution_count": 31,
     "metadata": {},
     "output_type": "execute_result"
    }
   ],
   "source": [
    "word.correct() # returns the word with the highest confidence value"
   ]
  },
  {
   "cell_type": "code",
   "execution_count": 32,
   "metadata": {},
   "outputs": [],
   "source": [
    "sentence = TextBlob(\"I dont know whehter this speling wil be correctd or not\")"
   ]
  },
  {
   "cell_type": "code",
   "execution_count": 33,
   "metadata": {},
   "outputs": [
    {
     "data": {
      "text/plain": [
       "TextBlob(\"I dont know whether this spelling will be correct or not\")"
      ]
     },
     "execution_count": 33,
     "metadata": {},
     "output_type": "execute_result"
    }
   ],
   "source": [
    "sentence.correct() # using correct on a sentence checks each word and replaces it"
   ]
  },
  {
   "cell_type": "code",
   "execution_count": 34,
   "metadata": {},
   "outputs": [
    {
     "name": "stdout",
     "output_type": "stream",
     "text": [
      "Original word:I // Corrected Word:I\n",
      "Original word:dont // Corrected Word:dont\n",
      "Original word:know // Corrected Word:know\n",
      "Original word:whehter // Corrected Word:whether\n",
      "Original word:this // Corrected Word:this\n",
      "Original word:speling // Corrected Word:spelling\n",
      "Original word:wil // Corrected Word:will\n",
      "Original word:be // Corrected Word:be\n",
      "Original word:correctd // Corrected Word:correct\n",
      "Original word:or // Corrected Word:or\n",
      "Original word:not // Corrected Word:not\n"
     ]
    }
   ],
   "source": [
    "for word in sentence.split():\n",
    "    print(f'Original word:{word} // Corrected Word:{Word(word).correct()}')"
   ]
  },
  {
   "cell_type": "markdown",
   "metadata": {},
   "source": [
    "#### Stemming and Lemmatization"
   ]
  },
  {
   "cell_type": "code",
   "execution_count": 35,
   "metadata": {},
   "outputs": [
    {
     "data": {
      "text/plain": [
       "'varieti'"
      ]
     },
     "execution_count": 35,
     "metadata": {},
     "output_type": "execute_result"
    }
   ],
   "source": [
    "word = Word('varieties')\n",
    "\n",
    "word.stem()"
   ]
  },
  {
   "cell_type": "code",
   "execution_count": 36,
   "metadata": {},
   "outputs": [
    {
     "data": {
      "text/plain": [
       "'variety'"
      ]
     },
     "execution_count": 36,
     "metadata": {},
     "output_type": "execute_result"
    }
   ],
   "source": [
    "word.lemmatize()"
   ]
  },
  {
   "cell_type": "markdown",
   "metadata": {},
   "source": [
    "#### Word Frequencies"
   ]
  },
  {
   "cell_type": "code",
   "execution_count": 37,
   "metadata": {},
   "outputs": [],
   "source": [
    "from pathlib import Path"
   ]
  },
  {
   "cell_type": "code",
   "execution_count": 38,
   "metadata": {},
   "outputs": [],
   "source": [
    "blob = TextBlob(Path('romeojuliet.txt').read_text())"
   ]
  },
  {
   "cell_type": "code",
   "execution_count": 39,
   "metadata": {},
   "outputs": [
    {
     "data": {
      "text/plain": [
       "178"
      ]
     },
     "execution_count": 39,
     "metadata": {},
     "output_type": "execute_result"
    }
   ],
   "source": [
    "blob.word_counts['juliet']"
   ]
  },
  {
   "cell_type": "code",
   "execution_count": 40,
   "metadata": {},
   "outputs": [
    {
     "data": {
      "text/plain": [
       "299"
      ]
     },
     "execution_count": 40,
     "metadata": {},
     "output_type": "execute_result"
    }
   ],
   "source": [
    "blob.word_counts['romeo']"
   ]
  },
  {
   "cell_type": "code",
   "execution_count": 41,
   "metadata": {},
   "outputs": [
    {
     "data": {
      "text/plain": [
       "46"
      ]
     },
     "execution_count": 41,
     "metadata": {},
     "output_type": "execute_result"
    }
   ],
   "source": [
    "blob.noun_phrases.count('lady capulet')"
   ]
  },
  {
   "cell_type": "markdown",
   "metadata": {},
   "source": [
    "#### Definitions, Synonyms, Antonyms"
   ]
  },
  {
   "cell_type": "code",
   "execution_count": 42,
   "metadata": {},
   "outputs": [],
   "source": [
    "happy = Word('happy')"
   ]
  },
  {
   "cell_type": "code",
   "execution_count": 43,
   "metadata": {},
   "outputs": [
    {
     "data": {
      "text/plain": [
       "['enjoying or showing or marked by joy or pleasure',\n",
       " 'marked by good fortune',\n",
       " 'eagerly disposed to act or to be of service',\n",
       " 'well expressed and to the point']"
      ]
     },
     "execution_count": 43,
     "metadata": {},
     "output_type": "execute_result"
    }
   ],
   "source": [
    "happy.definitions"
   ]
  },
  {
   "cell_type": "code",
   "execution_count": 44,
   "metadata": {},
   "outputs": [
    {
     "data": {
      "text/plain": [
       "[Synset('happy.a.01'),\n",
       " Synset('felicitous.s.02'),\n",
       " Synset('glad.s.02'),\n",
       " Synset('happy.s.04')]"
      ]
     },
     "execution_count": 44,
     "metadata": {},
     "output_type": "execute_result"
    }
   ],
   "source": [
    "happy.synsets"
   ]
  },
  {
   "cell_type": "markdown",
   "metadata": {},
   "source": [
    "#### Stop Words - common words in text that are often removed from text before analyzing it because they typically do not provide useful information"
   ]
  },
  {
   "cell_type": "code",
   "execution_count": 45,
   "metadata": {},
   "outputs": [],
   "source": [
    "import nltk"
   ]
  },
  {
   "cell_type": "code",
   "execution_count": 46,
   "metadata": {},
   "outputs": [
    {
     "name": "stderr",
     "output_type": "stream",
     "text": [
      "[nltk_data] Downloading package stopwords to C:\\Users\\Public.DESKTOP-6\n",
      "[nltk_data]     RBQT7L\\AppData\\Roaming\\nltk_data...\n",
      "[nltk_data]   Package stopwords is already up-to-date!\n"
     ]
    },
    {
     "data": {
      "text/plain": [
       "True"
      ]
     },
     "execution_count": 46,
     "metadata": {},
     "output_type": "execute_result"
    }
   ],
   "source": [
    "nltk.download('stopwords')"
   ]
  },
  {
   "cell_type": "code",
   "execution_count": 47,
   "metadata": {},
   "outputs": [],
   "source": [
    "from nltk.corpus import stopwords"
   ]
  },
  {
   "cell_type": "code",
   "execution_count": 48,
   "metadata": {},
   "outputs": [],
   "source": [
    "stops =   stopwords.words('english')"
   ]
  },
  {
   "cell_type": "code",
   "execution_count": 49,
   "metadata": {},
   "outputs": [],
   "source": [
    "blob = TextBlob('Today is a beautiful day. It is sunny and warm. I like such weather')"
   ]
  },
  {
   "cell_type": "code",
   "execution_count": 50,
   "metadata": {},
   "outputs": [
    {
     "data": {
      "text/plain": [
       "['Today', 'beautiful', 'day', 'sunny', 'warm', 'like', 'weather']"
      ]
     },
     "execution_count": 50,
     "metadata": {},
     "output_type": "execute_result"
    }
   ],
   "source": [
    "[word for word in blob.words if word.lower() not in stops]"
   ]
  },
  {
   "cell_type": "code",
   "execution_count": 51,
   "metadata": {},
   "outputs": [
    {
     "data": {
      "text/plain": [
       "list"
      ]
     },
     "execution_count": 51,
     "metadata": {},
     "output_type": "execute_result"
    }
   ],
   "source": [
    "type(stops)"
   ]
  },
  {
   "cell_type": "code",
   "execution_count": 52,
   "metadata": {},
   "outputs": [
    {
     "data": {
      "text/plain": [
       "['i',\n",
       " 'me',\n",
       " 'my',\n",
       " 'myself',\n",
       " 'we',\n",
       " 'our',\n",
       " 'ours',\n",
       " 'ourselves',\n",
       " 'you',\n",
       " \"you're\",\n",
       " \"you've\",\n",
       " \"you'll\",\n",
       " \"you'd\",\n",
       " 'your',\n",
       " 'yours',\n",
       " 'yourself',\n",
       " 'yourselves',\n",
       " 'he',\n",
       " 'him',\n",
       " 'his']"
      ]
     },
     "execution_count": 52,
     "metadata": {},
     "output_type": "execute_result"
    }
   ],
   "source": [
    "stops[:20]"
   ]
  },
  {
   "cell_type": "markdown",
   "metadata": {},
   "source": [
    "#### N-grams"
   ]
  },
  {
   "cell_type": "code",
   "execution_count": 53,
   "metadata": {},
   "outputs": [
    {
     "data": {
      "text/plain": [
       "TextBlob(\"Today is a beautiful day. It is sunny and warm. I like such weather\")"
      ]
     },
     "execution_count": 53,
     "metadata": {},
     "output_type": "execute_result"
    }
   ],
   "source": [
    "blob"
   ]
  },
  {
   "cell_type": "code",
   "execution_count": 54,
   "metadata": {},
   "outputs": [
    {
     "data": {
      "text/plain": [
       "[WordList(['Today', 'is', 'a']),\n",
       " WordList(['is', 'a', 'beautiful']),\n",
       " WordList(['a', 'beautiful', 'day']),\n",
       " WordList(['beautiful', 'day', 'It']),\n",
       " WordList(['day', 'It', 'is']),\n",
       " WordList(['It', 'is', 'sunny']),\n",
       " WordList(['is', 'sunny', 'and']),\n",
       " WordList(['sunny', 'and', 'warm']),\n",
       " WordList(['and', 'warm', 'I']),\n",
       " WordList(['warm', 'I', 'like']),\n",
       " WordList(['I', 'like', 'such']),\n",
       " WordList(['like', 'such', 'weather'])]"
      ]
     },
     "execution_count": 54,
     "metadata": {},
     "output_type": "execute_result"
    }
   ],
   "source": [
    "blob.ngrams()"
   ]
  },
  {
   "cell_type": "code",
   "execution_count": 55,
   "metadata": {},
   "outputs": [
    {
     "data": {
      "text/plain": [
       "[WordList(['Today', 'is', 'a', 'beautiful', 'day']),\n",
       " WordList(['is', 'a', 'beautiful', 'day', 'It']),\n",
       " WordList(['a', 'beautiful', 'day', 'It', 'is']),\n",
       " WordList(['beautiful', 'day', 'It', 'is', 'sunny']),\n",
       " WordList(['day', 'It', 'is', 'sunny', 'and']),\n",
       " WordList(['It', 'is', 'sunny', 'and', 'warm']),\n",
       " WordList(['is', 'sunny', 'and', 'warm', 'I']),\n",
       " WordList(['sunny', 'and', 'warm', 'I', 'like']),\n",
       " WordList(['and', 'warm', 'I', 'like', 'such']),\n",
       " WordList(['warm', 'I', 'like', 'such', 'weather'])]"
      ]
     },
     "execution_count": 55,
     "metadata": {},
     "output_type": "execute_result"
    }
   ],
   "source": [
    "blob.ngrams(5)"
   ]
  },
  {
   "cell_type": "markdown",
   "metadata": {},
   "source": [
    "#### Visualizations"
   ]
  },
  {
   "cell_type": "code",
   "execution_count": 56,
   "metadata": {},
   "outputs": [],
   "source": [
    "# Let’s visualize Romeo and Juliet’s top 20 words that are not stop words\n",
    "\n",
    "blob = TextBlob(Path('romeojuliet.txt').read_text())"
   ]
  },
  {
   "cell_type": "code",
   "execution_count": 57,
   "metadata": {},
   "outputs": [],
   "source": [
    "stop_words = stopwords.words('english')"
   ]
  },
  {
   "cell_type": "code",
   "execution_count": 58,
   "metadata": {},
   "outputs": [],
   "source": [
    "items = blob.word_counts.items()"
   ]
  },
  {
   "cell_type": "code",
   "execution_count": 59,
   "metadata": {},
   "outputs": [
    {
     "data": {
      "text/plain": [
       "dict_items"
      ]
     },
     "execution_count": 59,
     "metadata": {},
     "output_type": "execute_result"
    }
   ],
   "source": [
    "type(items)"
   ]
  },
  {
   "cell_type": "code",
   "execution_count": 60,
   "metadata": {},
   "outputs": [],
   "source": [
    "items = [item for item in items if item[0] not in stop_words]"
   ]
  },
  {
   "cell_type": "code",
   "execution_count": 61,
   "metadata": {},
   "outputs": [],
   "source": [
    "from operator import itemgetter"
   ]
  },
  {
   "cell_type": "code",
   "execution_count": 62,
   "metadata": {},
   "outputs": [],
   "source": [
    "sorted_items = sorted(items, key=itemgetter(1), reverse=True)"
   ]
  },
  {
   "cell_type": "code",
   "execution_count": 63,
   "metadata": {},
   "outputs": [
    {
     "data": {
      "text/plain": [
       "[('romeo', 299),\n",
       " ('thou', 277),\n",
       " ('juliet', 178),\n",
       " ('thy', 170),\n",
       " ('nurse', 149),\n",
       " ('capulet', 141),\n",
       " ('thee', 138),\n",
       " ('love', 137),\n",
       " ('shall', 110),\n",
       " ('lady', 109),\n",
       " ('friar', 104),\n",
       " ('come', 94),\n",
       " ('mercutio', 83),\n",
       " ('good', 81),\n",
       " ('benvolio', 79),\n",
       " ('enter', 75),\n",
       " ('go', 75),\n",
       " ('iâ€™ll', 71),\n",
       " ('tybalt', 70),\n",
       " ('death', 69)]"
      ]
     },
     "execution_count": 63,
     "metadata": {},
     "output_type": "execute_result"
    }
   ],
   "source": [
    "sorted_items[:20]"
   ]
  },
  {
   "cell_type": "code",
   "execution_count": 64,
   "metadata": {},
   "outputs": [],
   "source": [
    "import pandas as pd"
   ]
  },
  {
   "cell_type": "code",
   "execution_count": 65,
   "metadata": {},
   "outputs": [
    {
     "data": {
      "text/html": [
       "<div>\n",
       "<style scoped>\n",
       "    .dataframe tbody tr th:only-of-type {\n",
       "        vertical-align: middle;\n",
       "    }\n",
       "\n",
       "    .dataframe tbody tr th {\n",
       "        vertical-align: top;\n",
       "    }\n",
       "\n",
       "    .dataframe thead th {\n",
       "        text-align: right;\n",
       "    }\n",
       "</style>\n",
       "<table border=\"1\" class=\"dataframe\">\n",
       "  <thead>\n",
       "    <tr style=\"text-align: right;\">\n",
       "      <th></th>\n",
       "      <th>word</th>\n",
       "      <th>count</th>\n",
       "    </tr>\n",
       "  </thead>\n",
       "  <tbody>\n",
       "    <tr>\n",
       "      <th>0</th>\n",
       "      <td>romeo</td>\n",
       "      <td>299</td>\n",
       "    </tr>\n",
       "    <tr>\n",
       "      <th>1</th>\n",
       "      <td>thou</td>\n",
       "      <td>277</td>\n",
       "    </tr>\n",
       "    <tr>\n",
       "      <th>2</th>\n",
       "      <td>juliet</td>\n",
       "      <td>178</td>\n",
       "    </tr>\n",
       "    <tr>\n",
       "      <th>3</th>\n",
       "      <td>thy</td>\n",
       "      <td>170</td>\n",
       "    </tr>\n",
       "    <tr>\n",
       "      <th>4</th>\n",
       "      <td>nurse</td>\n",
       "      <td>149</td>\n",
       "    </tr>\n",
       "  </tbody>\n",
       "</table>\n",
       "</div>"
      ],
      "text/plain": [
       "     word  count\n",
       "0   romeo    299\n",
       "1    thou    277\n",
       "2  juliet    178\n",
       "3     thy    170\n",
       "4   nurse    149"
      ]
     },
     "execution_count": 65,
     "metadata": {},
     "output_type": "execute_result"
    }
   ],
   "source": [
    "df = pd.DataFrame(sorted_items[:100], columns=['word', 'count'])\n",
    "\n",
    "df.head()"
   ]
  },
  {
   "cell_type": "code",
   "execution_count": 66,
   "metadata": {},
   "outputs": [
    {
     "data": {
      "image/png": "[encoded data removed]",
      "text/plain": [
       "<Figure size 432x288 with 1 Axes>"
      ]
     },
     "metadata": {
      "needs_background": "light"
     },
     "output_type": "display_data"
    }
   ],
   "source": [
    "axes = df.plot.bar(x='word',   y='count', legend=False)"
   ]
  },
  {
   "cell_type": "code",
   "execution_count": 67,
   "metadata": {},
   "outputs": [],
   "source": [
    "import matplotlib.pyplot as plt"
   ]
  },
  {
   "cell_type": "code",
   "execution_count": 68,
   "metadata": {},
   "outputs": [
    {
     "data": {
      "text/plain": [
       "<Figure size 432x288 with 0 Axes>"
      ]
     },
     "metadata": {},
     "output_type": "display_data"
    }
   ],
   "source": [
    "%matplotlib inline\n",
    "\n",
    "plt.gcf().tight_layout()"
   ]
  },
  {
   "cell_type": "code",
   "execution_count": 69,
   "metadata": {},
   "outputs": [],
   "source": [
    "import imageio"
   ]
  },
  {
   "cell_type": "code",
   "execution_count": 70,
   "metadata": {},
   "outputs": [],
   "source": [
    "mask_image = imageio.imread('mask_heart.png')"
   ]
  },
  {
   "cell_type": "code",
   "execution_count": 73,
   "metadata": {},
   "outputs": [],
   "source": [
    "from wordcloud import WordCloud"
   ]
  },
  {
   "cell_type": "code",
   "execution_count": 74,
   "metadata": {},
   "outputs": [],
   "source": [
    "wordcloud = WordCloud(colormap='prism', mask=mask_image, background_color='white')"
   ]
  },
  {
   "cell_type": "code",
   "execution_count": 75,
   "metadata": {},
   "outputs": [],
   "source": [
    "from pathlib import Path"
   ]
  },
  {
   "cell_type": "code",
   "execution_count": 76,
   "metadata": {},
   "outputs": [],
   "source": [
    "text = Path('romeojuliet.txt').read_text()"
   ]
  },
  {
   "cell_type": "code",
   "execution_count": 77,
   "metadata": {},
   "outputs": [],
   "source": [
    "wordcloud = wordcloud.generate(text)"
   ]
  },
  {
   "cell_type": "code",
   "execution_count": 78,
   "metadata": {},
   "outputs": [],
   "source": [
    "wordcloud = wordcloud.to_file('RomeoAndJulietHeart.png')"
   ]
  },
  {
   "cell_type": "code",
   "execution_count": 79,
   "metadata": {},
   "outputs": [
    {
     "data": {
      "text/plain": [
       "<matplotlib.image.AxesImage at 0x28ab0a03248>"
      ]
     },
     "execution_count": 79,
     "metadata": {},
     "output_type": "execute_result"
    },
    {
     "data": {
      "image/png": "[encoded data removed]",
      "text/plain": [
       "<Figure size 432x288 with 1 Axes>"
      ]
     },
     "metadata": {
      "needs_background": "light"
     },
     "output_type": "display_data"
    }
   ],
   "source": [
    "plt.imshow(wordcloud)"
   ]
  },
  {
   "cell_type": "markdown",
   "metadata": {},
   "source": [
    "#### Readability"
   ]
  },
  {
   "cell_type": "code",
   "execution_count": 80,
   "metadata": {},
   "outputs": [
    {
     "data": {
      "text/plain": [
       "str"
      ]
     },
     "execution_count": 80,
     "metadata": {},
     "output_type": "execute_result"
    }
   ],
   "source": [
    "type(text)"
   ]
  },
  {
   "cell_type": "code",
   "execution_count": 81,
   "metadata": {},
   "outputs": [
    {
     "data": {
      "text/plain": [
       "144382"
      ]
     },
     "execution_count": 81,
     "metadata": {},
     "output_type": "execute_result"
    }
   ],
   "source": [
    "len(text)"
   ]
  },
  {
   "cell_type": "code",
   "execution_count": 82,
   "metadata": {},
   "outputs": [
    {
     "data": {
      "text/plain": [
       "'ï»¿THE TRAGEDY OF ROMEO AND JULIET\\n\\n\\n\\nby William Shakespeare\\n\\n\\n\\n\\n\\n\\nContents\\n\\nTHE PROLOGUE.\\n\\nACT I\\nScene I. A public place.\\nScene II. A Street.\\nScene III. Room in Capuletâ€™s House.'"
      ]
     },
     "execution_count": 82,
     "metadata": {},
     "output_type": "execute_result"
    }
   ],
   "source": [
    "text[:180]"
   ]
  },
  {
   "cell_type": "code",
   "execution_count": 85,
   "metadata": {},
   "outputs": [],
   "source": [
    "from textatistic import Textatistic"
   ]
  },
  {
   "cell_type": "code",
   "execution_count": 86,
   "metadata": {},
   "outputs": [],
   "source": [
    "readability = Textatistic(text)"
   ]
  },
  {
   "cell_type": "code",
   "execution_count": 87,
   "metadata": {},
   "outputs": [
    {
     "data": {
      "text/plain": [
       "textatistic.textatistic.Textatistic"
      ]
     },
     "execution_count": 87,
     "metadata": {},
     "output_type": "execute_result"
    }
   ],
   "source": [
    "type(readability)"
   ]
  },
  {
   "cell_type": "code",
   "execution_count": 88,
   "metadata": {},
   "outputs": [
    {
     "data": {
      "text/plain": [
       "{'char_count': 117071,\n",
       " 'word_count': 26080,\n",
       " 'sent_count': 3218,\n",
       " 'sybl_count': 30179,\n",
       " 'notdalechall_count': 5864,\n",
       " 'polysyblword_count': 571,\n",
       " 'flesch_score': 100.71241837040115,\n",
       " 'fleschkincaid_score': 1.2253298403916641,\n",
       " 'gunningfog_score': 4.117531942638609,\n",
       " 'smog_score': 5.535511919237148,\n",
       " 'dalechall_score': 7.588807089721543}"
      ]
     },
     "execution_count": 88,
     "metadata": {},
     "output_type": "execute_result"
    }
   ],
   "source": [
    "readability.dict()"
   ]
  },
  {
   "cell_type": "markdown",
   "metadata": {},
   "source": [
    "notdalechall_count—A count of the words that are not on the Dale-Chall list, which is a list of words understood by 80% of 5th graders.27 The higher this number is compared to the total word count, the less readable the text is considered to be.\n",
    "\n",
    "polysyblword_count—The number of words with three or more syllables.\n",
    "\n",
    "flesch_score—The Flesch Reading Ease score, which can be mapped to a grade level. Scores over 90 are considered readable by 5th graders. Scores under 30 require a college degree. Ranges in between correspond to the other grade levels.\n",
    "\n",
    "fleschkincaid_score—The Flesch-Kincaid score, which corresponds to a specific grade level.\n",
    "\n",
    "gunningfog_score—The Gunning Fog index value, which corresponds to a specific grade level.\n",
    "\n",
    "smog_score—The Simple Measure of Gobbledygook (SMOG), which corresponds to the years of education required to understand text. This measure is considered particularly effective for healthcare materials.\n",
    "\n",
    "dalechall_score—The Dale-Chall score, which can be mapped to grade levels from 4 and below to college graduate (grade 16) and above. This score considered to be most reliable for a broad range of text types."
   ]
  },
  {
   "cell_type": "markdown",
   "metadata": {},
   "source": [
    "#### Named Entity Recognition with spaCy"
   ]
  },
  {
   "cell_type": "markdown",
   "metadata": {},
   "source": [
    "NLP can determine what a text is about. A key aspect of this is named entity recognition, which attempts to locate and categorize items like dates, times, quantities, places, people, things, organizations and more."
   ]
  },
  {
   "cell_type": "code",
   "execution_count": 90,
   "metadata": {},
   "outputs": [],
   "source": [
    "import spacy"
   ]
  },
  {
   "cell_type": "code",
   "execution_count": 91,
   "metadata": {},
   "outputs": [],
   "source": [
    "nlp = spacy.load('en')"
   ]
  },
  {
   "cell_type": "code",
   "execution_count": 92,
   "metadata": {},
   "outputs": [],
   "source": [
    "document = nlp(\"\"\"Mohandas Karamchand Gandhi was an Indian lawyer, anti-colonial nationalist,\n",
    "and political ethicist, who employed nonviolent resistance to lead the successful campaign for India's independence \n",
    "from British Rule, and in turn inspire movements for civil rights and freedom across the world. \n",
    "The honorific Mahātmā (Sanskrit: \"great-souled\", \"venerable\"), first applied to him in 1914 in South Africa, \n",
    "is now used throughout the world.\n",
    "Born and raised in a Hindu family in coastal Gujarat, western India, Gandhi was trained in law \n",
    "at the Inner Temple, London, and called to the bar at age 22 in June 1891. \n",
    "After two uncertain years in India, where he was unable to start a successful law practice, \n",
    "he moved to South Africa in 1893 to represent an Indian merchant in a lawsuit. He went on to stay for 21 years. \n",
    "It was in South Africa that Gandhi raised a family, and first employed nonviolent resistance in a campaign for civil rights. \n",
    "In 1915, aged 45, he returned to India. He set about organising peasants, farmers, and urban labourers to \n",
    "protest against excessive land-tax and discrimination. Assuming leadership of the Indian National Congress in 1921, \n",
    "Gandhi led nationwide campaigns for easing poverty, expanding women's rights, building religious and ethnic amity, \n",
    "ending untouchability, and above all for achieving Swaraj or self-rule.\"\"\")"
   ]
  },
  {
   "cell_type": "code",
   "execution_count": 93,
   "metadata": {},
   "outputs": [
    {
     "name": "stdout",
     "output_type": "stream",
     "text": [
      "Mohandas Karamchand Gandhi: PERSON\n",
      "Indian: NORP\n",
      "India: GPE\n",
      "British: NORP\n",
      "Sanskrit: PERSON\n",
      "first: ORDINAL\n",
      "1914: DATE\n",
      "South Africa: GPE\n",
      "Hindu: NORP\n",
      "Gujarat: GPE\n",
      "India: GPE\n",
      "Gandhi: PERSON\n",
      "the Inner Temple: FAC\n",
      "London: GPE\n",
      "age 22: DATE\n",
      "June 1891: DATE\n",
      "two uncertain years: DATE\n",
      "India: GPE\n",
      "South Africa: GPE\n",
      "1893: DATE\n",
      "Indian: NORP\n",
      "21 years: DATE\n",
      "South Africa: GPE\n",
      "Gandhi: PERSON\n",
      "first: ORDINAL\n",
      "1915: DATE\n",
      "aged 45: DATE\n",
      "India: GPE\n",
      "the Indian National Congress: ORG\n",
      "1921: DATE\n",
      "Gandhi: PERSON\n"
     ]
    }
   ],
   "source": [
    "for entity in document.ents:\n",
    "    print(f'{entity.text}: {entity.label_}')"
   ]
  },
  {
   "cell_type": "markdown",
   "metadata": {},
   "source": [
    "#### Similarity Detection with spaCy"
   ]
  },
  {
   "cell_type": "markdown",
   "metadata": {},
   "source": [
    "Similarity detection is the process of analyzing documents to determine how alike they are. One possible similarity detection technique is word frequency counting."
   ]
  },
  {
   "cell_type": "code",
   "execution_count": 94,
   "metadata": {},
   "outputs": [],
   "source": [
    "document1 = nlp(Path('romeojuliet.txt').read_text())\n",
    "\n",
    "document2 = nlp(Path('EdwardTheSecond.txt').read_text())"
   ]
  },
  {
   "cell_type": "code",
   "execution_count": 97,
   "metadata": {},
   "outputs": [
    {
     "name": "stderr",
     "output_type": "stream",
     "text": [
      "C:\\ProgramData\\Anaconda3\\lib\\runpy.py:193: ModelsWarning: [W007] The model you're using has no word vectors loaded, so the result of the Doc.similarity method will be based on the tagger, parser and NER, which may not give useful similarity judgements. This may happen if you're using one of the small models, e.g. `en_core_web_sm`, which don't ship with word vectors and only use context-sensitive tensors. You can always add your own word vectors, or use one of the larger models instead if available.\n",
      "  \"__main__\", mod_spec)\n"
     ]
    },
    {
     "data": {
      "text/plain": [
       "0.9367037666724977"
      ]
     },
     "execution_count": 97,
     "metadata": {},
     "output_type": "execute_result"
    }
   ],
   "source": [
    "document1.similarity(document2)"
   ]
  },
  {
   "cell_type": "markdown",
   "metadata": {},
   "source": [
    "#### Other NLP Libraries and Tools"
   ]
  },
  {
   "cell_type": "markdown",
   "metadata": {},
   "source": [
    "\n",
    "\n",
    "    Gensim—Similarity detection and topic modeling.\n",
    "\n",
    "    Google Cloud Natural Language API—Cloud-based API for NLP tasks such as named entity recognition, sentiment analysis, parts-of-speech analysis and visualization, determining content categories and more.\n",
    "\n",
    "    Microsoft Linguistic Analysis API.\n",
    "\n",
    "    Bing sentiment analysis—Microsoft’s Bing search engine now uses sentiment in its search results. At the time of this writing, sentiment analysis in search results is available only in the United States.\n",
    "\n",
    "    PyTorch NLP—Deep learning library for NLP.\n",
    "\n",
    "    Stanford CoreNLP—A Java NLP library, which also provides a Python wrapper. Includes corefererence resolution, which finds all references to the same thing.\n",
    "\n",
    "    Apache OpenNLP—Another Java-based NLP library for common tasks, including coreference resolution. Python wrappers are available.\n",
    "\n",
    "    PyNLPl (pineapple)—Python NLP library, includes basic and more sophisticated NLP capabilities.\n",
    "\n",
    "    SnowNLP—Python library that simplifies Chinese text processing.\n",
    "\n",
    "    KoNLPy—Korean language NLP.\n",
    "\n",
    "    stop-words—Python library with stop words for many languages. We used NLTK’s stop words lists in this chapter.\n",
    "\n",
    "    TextRazor—A paid cloud-based NLP API that provides a free tier.\n"
   ]
  },
  {
   "cell_type": "markdown",
   "metadata": {},
   "source": [
    "#### Natural Language Datasets"
   ]
  },
  {
   "cell_type": "markdown",
   "metadata": {},
   "source": [
    "\n",
    "\n",
    "    Wikipedia—some or all of Wikipedia (https://meta.wikimedia.org/wiki/Datasets).\n",
    "\n",
    "    IMDB (Internet Movie Database)—various movie and TV datasets are available.\n",
    "\n",
    "    UCIs text datasets—many datasets, including the Spambase dataset.\n",
    "\n",
    "    Project Gutenberg—50,000+ free e-books that are out-of-copyright in the U.S.\n",
    "\n",
    "    Jeopardy! dataset—200,000+ questions from the Jeopardy! TV show. A milestone in AI occurred in 2011 when IBM Watson famously beat two of the world’s best Jeopardy! players.\n",
    "\n",
    "    Natural language processing datasets: https://machinelearningmastery.com/datasets-natural-language-processing/.\n",
    "\n",
    "    NLTK data: https://www.nltk.org/data.html.\n",
    "\n",
    "    Sentiment labeled sentences data set (from sources including IMDB.com, amazon.com, yelp.com.)\n",
    "\n",
    "    Registry of Open Data on AWS—a searchable directory of datasets hosted on Amazon Web Services (https://registry.opendata.aws).\n",
    "\n",
    "    Amazon Customer Reviews Dataset—130+ million product reviews (https://registry.opendata.aws/amazon-reviews/).\n",
    "\n",
    "    Pitt.edu corpora (http://mpqa.cs.pitt.edu/corpora/).\n"
   ]
  }
 ],
 "metadata": {
  "kernelspec": {
   "display_name": "Python 3",
   "language": "python",
   "name": "python3"
  },
  "language_info": {
   "codemirror_mode": {
    "name": "ipython",
    "version": 3
   },
   "file_extension": ".py",
   "mimetype": "text/x-python",
   "name": "python",
   "nbconvert_exporter": "python",
   "pygments_lexer": "ipython3",
   "version": "3.7.6"
  }
 },
 "nbformat": 4,
 "nbformat_minor": 2
}
