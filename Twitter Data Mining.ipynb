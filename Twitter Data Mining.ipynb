{
 "cells": [
  {
   "cell_type": "markdown",
   "metadata": {},
   "source": [
    "### Data Mining on Twitter"
   ]
  },
  {
   "cell_type": "code",
   "execution_count": 1,
   "metadata": {},
   "outputs": [],
   "source": [
    "import tweepy"
   ]
  },
  {
   "cell_type": "code",
   "execution_count": 3,
   "metadata": {},
   "outputs": [],
   "source": [
    "import keys # this is the .py file containing the API Keys and Access Tokens"
   ]
  },
  {
   "cell_type": "code",
   "execution_count": 5,
   "metadata": {},
   "outputs": [],
   "source": [
    "auth = tweepy.OAuthHandler(keys.api_key, keys.api_secret_key)"
   ]
  },
  {
   "cell_type": "code",
   "execution_count": 6,
   "metadata": {},
   "outputs": [],
   "source": [
    "auth.set_access_token(keys.access_token, keys.access_token_secret)"
   ]
  },
  {
   "cell_type": "code",
   "execution_count": 7,
   "metadata": {},
   "outputs": [],
   "source": [
    "api = tweepy.API(auth, wait_on_rate_limit=True, wait_on_rate_limit_notify=True)"
   ]
  },
  {
   "cell_type": "code",
   "execution_count": 8,
   "metadata": {},
   "outputs": [],
   "source": [
    "nasa = api.get_user('nasa')"
   ]
  },
  {
   "cell_type": "code",
   "execution_count": 9,
   "metadata": {},
   "outputs": [
    {
     "data": {
      "text/plain": [
       "11348282"
      ]
     },
     "execution_count": 9,
     "metadata": {},
     "output_type": "execute_result"
    }
   ],
   "source": [
    "nasa.id"
   ]
  },
  {
   "cell_type": "code",
   "execution_count": 10,
   "metadata": {},
   "outputs": [
    {
     "data": {
      "text/plain": [
       "'NASA'"
      ]
     },
     "execution_count": 10,
     "metadata": {},
     "output_type": "execute_result"
    }
   ],
   "source": [
    "nasa.name"
   ]
  },
  {
   "cell_type": "code",
   "execution_count": 12,
   "metadata": {},
   "outputs": [
    {
     "data": {
      "text/plain": [
       "'NASA'"
      ]
     },
     "execution_count": 12,
     "metadata": {},
     "output_type": "execute_result"
    }
   ],
   "source": [
    "nasa.screen_name"
   ]
  },
  {
   "cell_type": "code",
   "execution_count": 13,
   "metadata": {},
   "outputs": [
    {
     "data": {
      "text/plain": [
       "'Explore the universe and discover our home planet with @NASA. We usually post in EDT (UTC-4)'"
      ]
     },
     "execution_count": 13,
     "metadata": {},
     "output_type": "execute_result"
    }
   ],
   "source": [
    "nasa.description"
   ]
  },
  {
   "cell_type": "code",
   "execution_count": 14,
   "metadata": {},
   "outputs": [],
   "source": [
    "nikhilistic = api.get_user('nikhilistic')"
   ]
  },
  {
   "cell_type": "code",
   "execution_count": 15,
   "metadata": {},
   "outputs": [
    {
     "data": {
      "text/plain": [
       "18118045"
      ]
     },
     "execution_count": 15,
     "metadata": {},
     "output_type": "execute_result"
    }
   ],
   "source": [
    "nikhilistic.id"
   ]
  },
  {
   "cell_type": "code",
   "execution_count": 16,
   "metadata": {},
   "outputs": [
    {
     "data": {
      "text/plain": [
       "'Nikhil'"
      ]
     },
     "execution_count": 16,
     "metadata": {},
     "output_type": "execute_result"
    }
   ],
   "source": [
    "nikhilistic.name"
   ]
  },
  {
   "cell_type": "code",
   "execution_count": 17,
   "metadata": {},
   "outputs": [
    {
     "data": {
      "text/plain": [
       "'nikhilistic'"
      ]
     },
     "execution_count": 17,
     "metadata": {},
     "output_type": "execute_result"
    }
   ],
   "source": [
    "nikhilistic.screen_name"
   ]
  },
  {
   "cell_type": "code",
   "execution_count": 18,
   "metadata": {},
   "outputs": [
    {
     "data": {
      "text/plain": [
       "'Leaning to the Left, till nothing is left.'"
      ]
     },
     "execution_count": 18,
     "metadata": {},
     "output_type": "execute_result"
    }
   ],
   "source": [
    "nikhilistic.description"
   ]
  },
  {
   "cell_type": "code",
   "execution_count": 20,
   "metadata": {},
   "outputs": [
    {
     "data": {
      "text/plain": [
       "'Need help from @susantananda3 @ParveenKaswan @SudhaRamenIFS @anant_aranya @rameshpandeyifs @AkhileshIFS @NagNaidu08… https://t.co/Y0UN0LsmU3'"
      ]
     },
     "execution_count": 20,
     "metadata": {},
     "output_type": "execute_result"
    }
   ],
   "source": [
    "nikhilistic.status.text # most recent tweet"
   ]
  },
  {
   "cell_type": "code",
   "execution_count": 21,
   "metadata": {},
   "outputs": [
    {
     "data": {
      "text/plain": [
       "176"
      ]
     },
     "execution_count": 21,
     "metadata": {},
     "output_type": "execute_result"
    }
   ],
   "source": [
    "nikhilistic.followers_count"
   ]
  },
  {
   "cell_type": "code",
   "execution_count": 22,
   "metadata": {},
   "outputs": [
    {
     "data": {
      "text/plain": [
       "1046"
      ]
     },
     "execution_count": 22,
     "metadata": {},
     "output_type": "execute_result"
    }
   ],
   "source": [
    "nikhilistic.friends_count"
   ]
  },
  {
   "cell_type": "code",
   "execution_count": 23,
   "metadata": {},
   "outputs": [],
   "source": [
    "me = api.me()"
   ]
  },
  {
   "cell_type": "code",
   "execution_count": 24,
   "metadata": {},
   "outputs": [
    {
     "data": {
      "text/plain": [
       "'nikhilistic'"
      ]
     },
     "execution_count": 24,
     "metadata": {},
     "output_type": "execute_result"
    }
   ],
   "source": [
    "me.screen_name"
   ]
  },
  {
   "cell_type": "code",
   "execution_count": 25,
   "metadata": {},
   "outputs": [],
   "source": [
    "cursor = tweepy.Cursor(api.followers, screen_name='nikhilistic')"
   ]
  },
  {
   "cell_type": "code",
   "execution_count": 27,
   "metadata": {},
   "outputs": [
    {
     "name": "stdout",
     "output_type": "stream",
     "text": [
      "Followers: ankur79 kapilsethia55 Khaleel91163861 overdryve Prashantc2212 PratapAvineet reviveramesh student4alltime UniqueMusic5 WhiteMughalsFan\n"
     ]
    }
   ],
   "source": [
    "followers = []\n",
    "\n",
    "for account in cursor.items(10):\n",
    "    followers.append(account.screen_name)\n",
    "    \n",
    "    \n",
    "print('Followers:', ' '.join(sorted(followers,   key=lambda s: s.lower())))"
   ]
  },
  {
   "cell_type": "code",
   "execution_count": 28,
   "metadata": {},
   "outputs": [],
   "source": [
    "tweets = api.user_timeline(screen_name='nikhilistic', count=3)"
   ]
  },
  {
   "cell_type": "code",
   "execution_count": 29,
   "metadata": {},
   "outputs": [
    {
     "name": "stdout",
     "output_type": "stream",
     "text": [
      "nikhilistic: Need help from @susantananda3 @ParveenKaswan @SudhaRamenIFS @anant_aranya @rameshpandeyifs @AkhileshIFS @NagNaidu08… https://t.co/Y0UN0LsmU3\n",
      "\n",
      "nikhilistic: RT @pbhushan1: SC does not find urgency in a petition filed by Jagdeep Chhokar seeking desperate stranded migrant workers be allowed to go…\n",
      "\n",
      "nikhilistic: RT @ShekharGupta: “BJP wants us to see Indian Sonia Gandhi as Italian but Canadian Akshay Kumar as Indian”\n",
      "\n",
      "ThePrint's @jyotiyadaav reports…\n",
      "\n"
     ]
    }
   ],
   "source": [
    "for tweet in tweets:\n",
    "    print(f'{tweet.user.screen_name}: {tweet.text}\\n')"
   ]
  },
  {
   "cell_type": "code",
   "execution_count": 30,
   "metadata": {},
   "outputs": [],
   "source": [
    "from tweetutilities import print_tweets"
   ]
  },
  {
   "cell_type": "code",
   "execution_count": 31,
   "metadata": {},
   "outputs": [],
   "source": [
    "tweets = api.search(q='Arnab Goswami', count=10)"
   ]
  },
  {
   "cell_type": "code",
   "execution_count": 32,
   "metadata": {},
   "outputs": [
    {
     "name": "stdout",
     "output_type": "stream",
     "text": [
      "tusharshah2100: RT @UnSubtleDesi: Meet Arun Borade and Prateek Mishra, Congress workers named in FIR in attack on Arnab Goswami\n",
      "\n",
      "https://t.co/X7pnTIMb9a\n",
      "\n",
      "KumarNi87175844: Journalism is not a crime. While the Press Council of India can come in support for people like Arnab Goswami but a… https://t.co/gzn4mpYjDi\n",
      "\n",
      "PKotekar: RT @mesunainah: The most illogical, frustrated, attention seeking article by @ThePrintIndia on #ArnabGoswami  @AmitShah @OfficeofUT. I thin…\n",
      "\n",
      "NextHuman3: RT @jyotiyadaav: Why do we regard Kalpana Chawla, Sunita Wiliams and Priti Patel or Akshay as Indians, when we still call Sonia Gandhi by h…\n",
      "\n",
      "raju_parkhe: \n",
      "  ORIGINAL: RT @_garrywalia: अगर कनाडा के नागरिक अक्षय कुमार भारतीय हैं तो सोनिया गांधी क्यों नहीं https://t.co/80Wp4xBXTb\n",
      "TRANSLATED: RT @_garrywalia: If Canadian citizen Akshay Kumar is Indian then why not Sonia Gandhi https://t.co/80Wp4xBXTb\n",
      "\n",
      "DinabandhuNay20: \n",
      "  ORIGINAL: RT @jyotiyadaav: भाजपा के समर्थक सोनिया गांधी को विदेशी कहने में आनंद महसूस करते हैं. कुछ एंकर भी बार-बार उनके इटालियन कनेक्शन की बात करते…\n",
      "TRANSLATED: RT @jyotiyadaav: BJP supporters take pleasure in calling Sonia Gandhi a foreigner. Some anchors also repeatedly speak of their Italian connection.\n",
      "\n",
      "Departed_7: \n",
      "  ORIGINAL: RT @OpIndia_in: अर्नब गोस्वामी के ख़िलाफ़ ईसाई संगठन ने भी दर्ज कराई FIR: ‘मोमबत्ती गैंग’ और ‘पादरी’ जैसे शब्दों पर आपत्ति\n",
      "\n",
      "#ArnabGoswami…\n",
      "TRANSLATED: RT @OpIndia_in: Christian organization also lodged FIR against Arnab Goswami: objection to words like 'Candle Gang' and 'Pastor'\n",
      "\n",
      "# ArnabGoswami…\n",
      "\n",
      "KumbalagodK: RT @greatbong: Now that Arnab Goswami has been attacked allegedly by supporters of a party I am hoping for 5 things of equal likelihood \n",
      "1.…\n",
      "\n",
      "warisansari19: \n",
      "  ORIGINAL: RT @_garrywalia: अगर कनाडा के नागरिक अक्षय कुमार भारतीय हैं तो सोनिया गांधी क्यों नहीं https://t.co/80Wp4xBXTb\n",
      "TRANSLATED: RT @_garrywalia: If Canadian citizen Akshay Kumar is Indian then why not Sonia Gandhi https://t.co/80Wp4xBXTb\n",
      "\n",
      "Saumya78396875: Journalism is not a crime. While the Press Council of India can come in support for people like Arnab Goswami but a… https://t.co/qEGUBEdzxV\n",
      "\n"
     ]
    }
   ],
   "source": [
    "print_tweets(tweets)"
   ]
  },
  {
   "cell_type": "code",
   "execution_count": 34,
   "metadata": {},
   "outputs": [
    {
     "name": "stdout",
     "output_type": "stream",
     "text": [
      "kazi_tofik: RT @TheDeshBhakt: National challenge from #BhaktBanerjee \n",
      "Name me ONE journalist more loyal than #Arnab\n",
      "Name me ONE journalist who is more…\n",
      "\n",
      "amittiwari9483: \n",
      "  ORIGINAL: @ashabhosle @republic आपसे ये आशा नहीं थी और अगर #arnab Honest जॉर्नलिस्ट हैं तो, फिर भगवान ही बचाए आप जयसे लोगों… https://t.co/0lxbeLVJnl\n",
      "TRANSLATED: @ashabhosle @republic did not expect this from you and if you are the #arnab Honest Journalist, then God bless you guys… https://t.co/0lxbeLVJnl\n",
      "\n",
      "Mohamma02930116: RT @TheDeshBhakt: While liberals are calling #Goswami a serial lier &amp; mentally unstable - #BhaktBanerjee has jumped to the defence of #Arna…\n",
      "\n",
      "Rohithprasad14: RT @MeAshuOfficial: Who is the best Indian journalist?\n",
      "\n",
      "RT for Arnab\n",
      "Like for Ravish\n",
      "#ArnabAttacked #arrestarnabgoswami #ArnabGoswami #Arna…\n",
      "\n"
     ]
    }
   ],
   "source": [
    "tweets = api.search(q='#Arnab',   count=5)\n",
    "\n",
    "print_tweets(tweets)"
   ]
  },
  {
   "cell_type": "code",
   "execution_count": 35,
   "metadata": {},
   "outputs": [],
   "source": [
    "trends_available = api.trends_available()"
   ]
  },
  {
   "cell_type": "code",
   "execution_count": 37,
   "metadata": {},
   "outputs": [
    {
     "data": {
      "text/plain": [
       "467"
      ]
     },
     "execution_count": 37,
     "metadata": {},
     "output_type": "execute_result"
    }
   ],
   "source": [
    "len(trends_available) # number of locations with trends available for them"
   ]
  },
  {
   "cell_type": "code",
   "execution_count": 38,
   "metadata": {},
   "outputs": [
    {
     "data": {
      "text/plain": [
       "list"
      ]
     },
     "execution_count": 38,
     "metadata": {},
     "output_type": "execute_result"
    }
   ],
   "source": [
    "type(trends_available)"
   ]
  },
  {
   "cell_type": "code",
   "execution_count": 39,
   "metadata": {},
   "outputs": [
    {
     "data": {
      "text/plain": [
       "[{'name': 'Worldwide',\n",
       "  'placeType': {'code': 19, 'name': 'Supername'},\n",
       "  'url': 'http://where.yahooapis.com/v1/place/1',\n",
       "  'parentid': 0,\n",
       "  'country': '',\n",
       "  'woeid': 1,\n",
       "  'countryCode': None},\n",
       " {'name': 'Winnipeg',\n",
       "  'placeType': {'code': 7, 'name': 'Town'},\n",
       "  'url': 'http://where.yahooapis.com/v1/place/2972',\n",
       "  'parentid': 23424775,\n",
       "  'country': 'Canada',\n",
       "  'woeid': 2972,\n",
       "  'countryCode': 'CA'}]"
      ]
     },
     "execution_count": 39,
     "metadata": {},
     "output_type": "execute_result"
    }
   ],
   "source": [
    "trends_available[:2]"
   ]
  }
 ],
 "metadata": {
  "kernelspec": {
   "display_name": "Python 3",
   "language": "python",
   "name": "python3"
  },
  "language_info": {
   "codemirror_mode": {
    "name": "ipython",
    "version": 3
   },
   "file_extension": ".py",
   "mimetype": "text/x-python",
   "name": "python",
   "nbconvert_exporter": "python",
   "pygments_lexer": "ipython3",
   "version": "3.7.6"
  }
 },
 "nbformat": 4,
 "nbformat_minor": 4
}
